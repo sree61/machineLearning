{
  "nbformat": 4,
  "nbformat_minor": 0,
  "metadata": {
    "colab": {
      "name": "epic_num_reader.ipynb",
      "provenance": [],
      "authorship_tag": "ABX9TyP2yDpX74wW8+Htv4FxnNTF",
      "include_colab_link": true
    },
    "kernelspec": {
      "name": "python3",
      "display_name": "Python 3"
    }
  },
  "cells": [
    {
      "cell_type": "markdown",
      "metadata": {
        "id": "view-in-github",
        "colab_type": "text"
      },
      "source": [
        "<a href=\"https://colab.research.google.com/github/sree61/machineLearning/blob/master/epic_num_reader.ipynb\" target=\"_parent\"><img src=\"https://colab.research.google.com/assets/colab-badge.svg\" alt=\"Open In Colab\"/></a>"
      ]
    },
    {
      "cell_type": "code",
      "metadata": {
        "id": "hK6xKrZgvkQ1",
        "colab_type": "code",
        "outputId": "40b1941b-c6f9-4888-bf4a-21de338d8931",
        "colab": {
          "base_uri": "https://localhost:8080/",
          "height": 35
        }
      },
      "source": [
        "%tensorflow_version 2.x"
      ],
      "execution_count": 1,
      "outputs": [
        {
          "output_type": "stream",
          "text": [
            "TensorFlow 2.x selected.\n"
          ],
          "name": "stdout"
        }
      ]
    },
    {
      "cell_type": "code",
      "metadata": {
        "id": "pti7YaV3znEm",
        "colab_type": "code",
        "colab": {}
      },
      "source": [
        "import tensorflow as tf\n",
        "import numpy as np\n",
        "import matplotlib.pyplot as plt"
      ],
      "execution_count": 0,
      "outputs": []
    },
    {
      "cell_type": "code",
      "metadata": {
        "id": "FJNKDKs7zrzu",
        "colab_type": "code",
        "colab": {}
      },
      "source": [
        "mnist = tf.keras.datasets.mnist\n",
        "(x_train, y_train), (x_test, y_test) = mnist.load_data()   # 28x28 numbers of 0-9"
      ],
      "execution_count": 0,
      "outputs": []
    },
    {
      "cell_type": "code",
      "metadata": {
        "id": "sGc8ocsbzwds",
        "colab_type": "code",
        "colab": {}
      },
      "source": [
        "x_train = tf.keras.utils.normalize(x_train, axis=1).reshape(x_train.shape[0], -1)\n",
        "x_test = tf.keras.utils.normalize(x_test, axis=1).reshape(x_test.shape[0], -1)"
      ],
      "execution_count": 0,
      "outputs": []
    },
    {
      "cell_type": "code",
      "metadata": {
        "id": "SeO1UetzzyFW",
        "colab_type": "code",
        "colab": {}
      },
      "source": [
        "model = tf.keras.models.Sequential()\n",
        "#model.add(tf.keras.layers.Flatten())   #Flatten the images! Could be done with numpy reshape\n",
        "model.add(tf.keras.layers.Dense(128, activation=tf.nn.relu, input_shape= x_train.shape[1:]))\n",
        "model.add(tf.keras.layers.Dense(128, activation=tf.nn.relu))\n",
        "model.add(tf.keras.layers.Dense(10, activation=tf.nn.softmax))   #10 because dataset is numbers from 0 - 9"
      ],
      "execution_count": 0,
      "outputs": []
    },
    {
      "cell_type": "code",
      "metadata": {
        "id": "F-i3EXD4z0XO",
        "colab_type": "code",
        "colab": {
          "base_uri": "https://localhost:8080/",
          "height": 161
        },
        "outputId": "a1e31153-7134-4557-b2cd-28f0ee5a8988"
      },
      "source": [
        "model.compile(optimizer='adam', loss='sparse_categorical_crossentropy', metrics=['accuracy'])\n",
        "model.fit(x_train, y_train, epochs=3)"
      ],
      "execution_count": 6,
      "outputs": [
        {
          "output_type": "stream",
          "text": [
            "Train on 60000 samples\n",
            "Epoch 1/3\n",
            "60000/60000 [==============================] - 5s 83us/sample - loss: 0.2595 - accuracy: 0.9237\n",
            "Epoch 2/3\n",
            "60000/60000 [==============================] - 5s 78us/sample - loss: 0.1039 - accuracy: 0.9681\n",
            "Epoch 3/3\n",
            "60000/60000 [==============================] - 4s 74us/sample - loss: 0.0712 - accuracy: 0.9779\n"
          ],
          "name": "stdout"
        },
        {
          "output_type": "execute_result",
          "data": {
            "text/plain": [
              "<tensorflow.python.keras.callbacks.History at 0x7f7ec13c75c0>"
            ]
          },
          "metadata": {
            "tags": []
          },
          "execution_count": 6
        }
      ]
    },
    {
      "cell_type": "code",
      "metadata": {
        "id": "x905QvpMz2Wk",
        "colab_type": "code",
        "colab": {
          "base_uri": "https://localhost:8080/",
          "height": 71
        },
        "outputId": "b30f6712-3792-4ae7-86e1-80de3c55f817"
      },
      "source": [
        "val_loss, val_acc = model.evaluate(x_test, y_test)\n",
        "print(val_loss)\n",
        "print(val_acc)"
      ],
      "execution_count": 9,
      "outputs": [
        {
          "output_type": "stream",
          "text": [
            "10000/10000 [==============================] - 0s 37us/sample - loss: 0.0941 - accuracy: 0.9706\n",
            "0.09412699968349189\n",
            "0.9706\n"
          ],
          "name": "stdout"
        }
      ]
    },
    {
      "cell_type": "code",
      "metadata": {
        "id": "F2eaIDcaCh1f",
        "colab_type": "code",
        "colab": {
          "base_uri": "https://localhost:8080/",
          "height": 269
        },
        "outputId": "fe268ca9-ebeb-44bf-908f-167795f9214f"
      },
      "source": [
        "model.save('epic_num_reader.model')\n",
        "new_model = tf.keras.models.load_model('epic_num_reader.model')\n",
        "predictions = new_model.predict(x_test)\n",
        "print(predictions)\n"
      ],
      "execution_count": 11,
      "outputs": [
        {
          "output_type": "stream",
          "text": [
            "INFO:tensorflow:Assets written to: epic_num_reader.model/assets\n",
            "[[3.5560880e-08 1.0829730e-07 6.6249700e-06 ... 9.9995971e-01\n",
            "  1.3437236e-07 2.7100909e-06]\n",
            " [1.8293770e-08 9.0096502e-05 9.9990690e-01 ... 2.7581031e-09\n",
            "  2.5182233e-08 1.9454337e-13]\n",
            " [3.1068896e-07 9.9766868e-01 1.3525038e-04 ... 1.1239256e-03\n",
            "  7.7876216e-04 9.4969414e-07]\n",
            " ...\n",
            " [1.1990709e-08 1.9982322e-07 2.3771307e-08 ... 4.4734429e-06\n",
            "  1.4300218e-06 9.0622343e-06]\n",
            " [2.6074382e-05 2.7826945e-06 2.7545536e-06 ... 1.0468307e-06\n",
            "  2.0381873e-03 4.7164739e-09]\n",
            " [6.3465919e-08 3.1260342e-08 8.3496721e-10 ... 5.0030449e-12\n",
            "  4.5902905e-08 3.6027487e-11]]\n"
          ],
          "name": "stdout"
        }
      ]
    }
  ]
}